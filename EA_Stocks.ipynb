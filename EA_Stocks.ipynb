{
 "cells": [
  {
   "cell_type": "markdown",
   "metadata": {},
   "source": [
    "# EDA ON SP500 STOCKS"
   ]
  },
  {
   "cell_type": "markdown",
   "metadata": {},
   "source": [
    "## Import Libraries and extract datas from pickle"
   ]
  },
  {
   "cell_type": "code",
   "execution_count": 5,
   "metadata": {},
   "outputs": [],
   "source": [
    "import matplotlib.pyplot as plt\n",
    "import numpy as np\n",
    "import pandas as pd\n",
    "import seaborn as sns\n",
    "from helpermodules import correlation_study\n",
    "import pickle\n",
    "from helpermodules.correlation_study import CorrelationAnalysis"
   ]
  },
  {
   "cell_type": "code",
   "execution_count": 6,
   "metadata": {},
   "outputs": [],
   "source": [
    "# Take data\n",
    "with open('pickle_files/cleaned_sp500_df.pkl', 'rb') as f:\n",
    "    df = pickle.load(f)"
   ]
  },
  {
   "cell_type": "markdown",
   "metadata": {},
   "source": [
    "This dataframe df contains the cleaned closing prices of all the stocks componing the index SP500 from 2014 to 2024.\n"
   ]
  },
  {
   "cell_type": "markdown",
   "metadata": {},
   "source": [
    "## Descriptive Statistics"
   ]
  },
  {
   "cell_type": "code",
   "execution_count": 7,
   "metadata": {},
   "outputs": [
    {
     "name": "stdout",
     "output_type": "stream",
     "text": [
      "count    469.000000\n",
      "mean       0.000646\n",
      "std        0.000394\n",
      "min       -0.000789\n",
      "25%        0.000422\n",
      "50%        0.000586\n",
      "75%        0.000837\n",
      "max        0.003719\n",
      "Name: mean, dtype: float64\n"
     ]
    }
   ],
   "source": [
    "# Extract tickers\n",
    "tickers = df.columns.tolist()\n",
    "\n",
    "# Compute percentage changes and drop NaNs\n",
    "df_returns = df.pct_change().dropna(how='any')\n",
    "\n",
    "# Calculate mean, median, standard deviation, skewness, kurtosis for each stock\n",
    "descriptive_stats = df_returns.describe().transpose()\n",
    "descriptive_stats['skewness'] = df_returns.skew()\n",
    "descriptive_stats['kurtosis'] = df_returns.kurtosis()\n",
    "\n",
    "# Compute mean, median, standard deviation of the mean of pct returns \n",
    "avg_stats_mean = descriptive_stats['mean'].describe()\n",
    "\n",
    "print(avg_stats_mean)"
   ]
  },
  {
   "cell_type": "markdown",
   "metadata": {},
   "source": [
    "1. **Mean:** The overall mean of the average daily percentage returns is approximately 0.000646 (or 0.0646%), indicating a small positive daily return on average for all stocks.\n",
    "\n",
    "2. **Standard Deviation (std):** The standard deviation of the average daily returns is approximately 0.000394 (or 0.0394%), suggesting low variability in the average daily returns across stocks.\n",
    "\n",
    "3. **Minimum and Maximum:** The minimum mean daily return is -0.000789 (-0.0789%), while the maximum is 0.003719 (0.3719%). These extremes suggest that while most stocks exhibit small positive returns, there are outliers with both small negative and relatively high positive mean daily returns.\n",
    "\n",
    "4. **Percentiles (25%, 50%, 75%):** \n",
    "   - **25th Percentile (0.000422):** 25% of the stocks have mean daily returns below 0.0422%.\n",
    "   - **50th Percentile (Median, 0.000586):** The median value represents the midpoint of the mean returns distribution, with half the stocks having returns above this value and half below.\n",
    "   - **75th Percentile (0.000831):** 75% of the stocks have mean daily returns below 0.0831%, indicating that most stocks cluster around small positive returns.\n",
    "\n",
    "The distribution of the mean daily percentage returns indicates that the S&P 500 stocks generally show small positive returns, with limited variability. The presence of some outliers, as seen in the minimum and maximum values, suggests a need to consider the effects of extreme performers when analyzing the dataset."
   ]
  },
  {
   "cell_type": "code",
   "execution_count": 8,
   "metadata": {},
   "outputs": [
    {
     "name": "stdout",
     "output_type": "stream",
     "text": [
      "Number of stocks with positive skewness: 205\n",
      "Number of stocks with negative kurtosis: 0\n"
     ]
    }
   ],
   "source": [
    "# Count number of stocks with positive skewness\n",
    "positive_skewness = descriptive_stats['skewness'] > 0\n",
    "print(f'Number of stocks with positive skewness: {positive_skewness.sum()}')\n",
    "\n",
    "#Count and print number of stocks with negative kurtois\n",
    "negative_kurtosis = descriptive_stats['kurtosis'] < 0\n",
    "print(f'Number of stocks with negative kurtosis: {negative_kurtosis.sum()}')"
   ]
  },
  {
   "cell_type": "markdown",
   "metadata": {},
   "source": [
    "Out of the S&P 500 stocks, 205 exhibit positive skewness in their daily returns. Positive skewness indicates that the right tail of the distribution is longer or fatter than the left. This suggests that these stocks have a higher probability of experiencing large positive returns, which may be attractive to investors seeking high-growth opportunities.\n",
    "\n",
    "None of the stocks have negative kurtosis. Since kurtosis measures the \"tailedness\" of the distribution, a positive kurtosis indicates heavier tails than a normal distribution (leptokurtic), which is typical for financial return data. This implies that extreme events (both positive and negative) are more likely than would be predicted by a normal distribution."
   ]
  }
 ],
 "metadata": {
  "kernelspec": {
   "display_name": "venv",
   "language": "python",
   "name": "python3"
  },
  "language_info": {
   "codemirror_mode": {
    "name": "ipython",
    "version": 3
   },
   "file_extension": ".py",
   "mimetype": "text/x-python",
   "name": "python",
   "nbconvert_exporter": "python",
   "pygments_lexer": "ipython3",
   "version": "3.13.0"
  }
 },
 "nbformat": 4,
 "nbformat_minor": 2
}
