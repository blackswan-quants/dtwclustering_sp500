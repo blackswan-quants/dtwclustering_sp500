{
 "cells": [
  {
   "cell_type": "code",
   "execution_count": 4,
   "metadata": {},
   "outputs": [],
   "source": [
    "import pickle\n",
    "\n",
    "#opening the pickle file\n",
    "file_name = \"pickle_files/dtw60.pkl\"\n",
    "with open(file_name, 'rb') as file:\n",
    "    cleaned_sp500_df = pickle.load(file)\n"
   ]
  },
  {
   "cell_type": "code",
   "execution_count": 5,
   "metadata": {},
   "outputs": [
    {
     "ename": "AttributeError",
     "evalue": "'numpy.ndarray' object has no attribute 'head'",
     "output_type": "error",
     "traceback": [
      "\u001b[1;31m---------------------------------------------------------------------------\u001b[0m",
      "\u001b[1;31mAttributeError\u001b[0m                            Traceback (most recent call last)",
      "Cell \u001b[1;32mIn[5], line 1\u001b[0m\n\u001b[1;32m----> 1\u001b[0m \u001b[43mcleaned_sp500_df\u001b[49m\u001b[38;5;241;43m.\u001b[39;49m\u001b[43mhead\u001b[49m()\n",
      "\u001b[1;31mAttributeError\u001b[0m: 'numpy.ndarray' object has no attribute 'head'"
     ]
    }
   ],
   "source": [
    "cleaned_sp500_df.head()\n"
   ]
  },
  {
   "cell_type": "code",
   "execution_count": null,
   "metadata": {},
   "outputs": [],
   "source": [
    "#n_series contains the number of time series \n",
    "n_series=cleaned_sp500_df.shape[1]\n",
    "n_series"
   ]
  },
  {
   "cell_type": "code",
   "execution_count": null,
   "metadata": {},
   "outputs": [],
   "source": [
    "import numpy as np\n",
    "# Initializing distance matrix\n",
    "euclidean_distance = np.zeros((n_series, n_series))\n",
    "dtw0_distance = np.zeros((n_series, n_series))\n",
    "dtw60_distance = np.zeros((n_series, n_series))"
   ]
  },
  {
   "cell_type": "code",
   "execution_count": null,
   "metadata": {},
   "outputs": [],
   "source": [
    "from helpermodules.dtwclustering import DTWClustering"
   ]
  },
  {
   "cell_type": "code",
   "execution_count": null,
   "metadata": {},
   "outputs": [],
   "source": [
    "# Initializing distance matrix\n",
    "euclidean_distance = np.zeros((n_series, n_series))\n",
    "dtw0_distance = np.zeros((n_series, n_series))\n",
    "dtw60_distance = np.zeros((n_series, n_series))\n",
    "\n",
    "#two for cycle in order to obtain a distance matrix\n",
    "for i in range(n_series):\n",
    "    for j in range(i, n_series):\n",
    "        distance= DTWClustering(cleaned_sp500_df.iloc[:,i], cleaned_sp500_df.iloc[:,j])\n",
    "        euclidean_distance[i,j]= distance.euclidean_distance()\n",
    "        dtw0_distance[i,j]= distance.dtw_no_window()\n",
    "        dtw60_distance[i,j]= distance.dtw_with_window()\n",
    "        # copy to value because the matrix is symmetric\n",
    "        euclidean_distance[j, i] = euclidean_distance[i, j]\n",
    "        dtw0_distance[j, i] = dtw0_distance[i, j]\n",
    "        dtw60_distance[j, i] = dtw60_distance[i, j]"
   ]
  }
 ],
 "metadata": {
  "kernelspec": {
   "display_name": "venv",
   "language": "python",
   "name": "python3"
  },
  "language_info": {
   "codemirror_mode": {
    "name": "ipython",
    "version": 3
   },
   "file_extension": ".py",
   "mimetype": "text/x-python",
   "name": "python",
   "nbconvert_exporter": "python",
   "pygments_lexer": "ipython3",
   "version": "3.12.7"
  }
 },
 "nbformat": 4,
 "nbformat_minor": 2
}
