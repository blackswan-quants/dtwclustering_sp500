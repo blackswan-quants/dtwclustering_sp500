{
 "cells": [
  {
   "cell_type": "markdown",
   "metadata": {},
   "source": [
    "**Portfolio optimization**"
   ]
  },
  {
   "cell_type": "markdown",
   "metadata": {},
   "source": [
    "### Objective Function\n",
    "\n",
    "$$\n",
    "\\text{Maximize: } E(R_{\\text{portfolio}}) - \\lambda \\cdot \\text{Var}(R_{\\text{portfolio}})\n",
    "$$\n",
    "\n",
    "Where:\n",
    "- **$E(R_{\\text{portfolio}}) = \\sum_{i=1}^n x_i \\cdot R_i$**: The expected return of the optimized portfolio.\n",
    "- **$\\text{Var}(R_{\\text{portfolio}}) = x^T \\Sigma x$**: The variance of the portfolio.\n",
    "- **$\\lambda$**: Parameter balancing the maximization of return and the minimization of risk.\n",
    "\n",
    "### Constraints\n",
    "\n",
    "1. **Sum of weights:**\n",
    "\n",
    "$$\n",
    "\\sum_{i=1}^n x_i = 1\n",
    "$$\n",
    "\n",
    "2. **Non-negative weights:**\n",
    "\n",
    "$$\n",
    "x_i \\geq 0, \\quad \\forall i \\in \\{1, 2, \\dots, n\\}\n",
    "$$\n",
    "\n",
    "3. **Proportionality constraint:**\n",
    "\n",
    "$$\n",
    "|x_i - k* w_{\\text{index}_i}| \\leq \\epsilon, \\quad \\forall i \\in \\{1, 2, \\dots, n\\}\n",
    "$$\n",
    "\n",
    "4. **Return similarity constraint:**\n",
    "\n",
    "$$\n",
    "|E(R_{\\text{portfolio}}) - E(R_{\\text{index}})| \\leq \\delta\n",
    "$$\n",
    "\n",
    "5. **Price-to-Book constraint:**\n",
    "\n",
    "$$\n",
    "\\sum_{i=1}^n x_i \\cdot \\text{P/B}_i \\leq \\text{P/B}_{\\text{index}}\n",
    "$$\n",
    "\n",
    "\n",
    "### Variable Descriptions\n",
    "\n",
    "- **$x_i$:** Weight of the $i$-th stock in the optimized portfolio (decision variable).\n",
    "- **$R_i$:** Expected return of the $i$-th stock, calculated through ARIMA model.\n",
    "- **$\\Sigma$:** Covariance matrix of the stock returns, capturing the relationships between the $n$ selected stocks.\n",
    "- **$w_{\\text{index}_i}$:** Original weight of the $i$-th stock in the reference index (S&P 500).\n",
    "- **$\\text{P/B}_i$:** Price-to-Book ratio of the $i$-th stock.\n",
    "- **$\\text{P/B}_{\\text{index}}$:** Aggregate Price-to-Book ratio of the reference index.\n",
    "- **$\\epsilon$:** Tolerance for the proportionality constraint between $x_i$ and $w_{\\text{index}_i}$.\n",
    "- **$\\delta$:** Tolerance for the similarity in returns between the portfolio and the index.\n",
    "- **$\\lambda$:** Parameter controlling the trade-off between maximizing return and minimizing risk.\n",
    "- **$k$**: Scaling factor.\n",
    "- **$n$:** Total number of selected stocks (es:49 in this case).\n",
    "\n"
   ]
  },
  {
   "cell_type": "code",
   "execution_count": 3,
   "metadata": {},
   "outputs": [
    {
     "name": "stdout",
     "output_type": "stream",
     "text": [
      "Unexpected exception formatting exception. Falling back to standard exception\n"
     ]
    },
    {
     "name": "stderr",
     "output_type": "stream",
     "text": [
      "Traceback (most recent call last):\n",
      "  File \"C:\\Users\\Nicolò Dal Monte\\AppData\\Roaming\\Python\\Python313\\site-packages\\IPython\\core\\interactiveshell.py\", line 3577, in run_code\n",
      "    exec(code_obj, self.user_global_ns, self.user_ns)\n",
      "    ~~~~^^^^^^^^^^^^^^^^^^^^^^^^^^^^^^^^^^^^^^^^^^^^^\n",
      "  File \"C:\\Users\\Nicolò Dal Monte\\AppData\\Local\\Temp\\ipykernel_21324\\3631515144.py\", line 3, in <module>\n",
      "    import cvxpy as cp\n",
      "ModuleNotFoundError: No module named 'cvxpy'\n",
      "\n",
      "During handling of the above exception, another exception occurred:\n",
      "\n",
      "Traceback (most recent call last):\n",
      "  File \"C:\\Users\\Nicolò Dal Monte\\AppData\\Roaming\\Python\\Python313\\site-packages\\IPython\\core\\interactiveshell.py\", line 2168, in showtraceback\n",
      "    stb = self.InteractiveTB.structured_traceback(\n",
      "        etype, value, tb, tb_offset=tb_offset\n",
      "    )\n",
      "  File \"C:\\Users\\Nicolò Dal Monte\\AppData\\Roaming\\Python\\Python313\\site-packages\\IPython\\core\\ultratb.py\", line 1457, in structured_traceback\n",
      "    return FormattedTB.structured_traceback(\n",
      "           ~~~~~~~~~~~~~~~~~~~~~~~~~~~~~~~~^\n",
      "        self, etype, evalue, etb, tb_offset, number_of_lines_of_context\n",
      "        ^^^^^^^^^^^^^^^^^^^^^^^^^^^^^^^^^^^^^^^^^^^^^^^^^^^^^^^^^^^^^^^\n",
      "    )\n",
      "    ^\n",
      "  File \"C:\\Users\\Nicolò Dal Monte\\AppData\\Roaming\\Python\\Python313\\site-packages\\IPython\\core\\ultratb.py\", line 1348, in structured_traceback\n",
      "    return VerboseTB.structured_traceback(\n",
      "           ~~~~~~~~~~~~~~~~~~~~~~~~~~~~~~^\n",
      "        self, etype, value, tb, tb_offset, number_of_lines_of_context\n",
      "        ^^^^^^^^^^^^^^^^^^^^^^^^^^^^^^^^^^^^^^^^^^^^^^^^^^^^^^^^^^^^^\n",
      "    )\n",
      "    ^\n",
      "  File \"C:\\Users\\Nicolò Dal Monte\\AppData\\Roaming\\Python\\Python313\\site-packages\\IPython\\core\\ultratb.py\", line 1195, in structured_traceback\n",
      "    formatted_exception = self.format_exception_as_a_whole(etype, evalue, etb, number_of_lines_of_context,\n",
      "                                                           tb_offset)\n",
      "  File \"C:\\Users\\Nicolò Dal Monte\\AppData\\Roaming\\Python\\Python313\\site-packages\\IPython\\core\\ultratb.py\", line 1085, in format_exception_as_a_whole\n",
      "    self.get_records(etb, number_of_lines_of_context, tb_offset) if etb else []\n",
      "    ~~~~~~~~~~~~~~~~^^^^^^^^^^^^^^^^^^^^^^^^^^^^^^^^^^^^^^^^^^^^\n",
      "  File \"C:\\Users\\Nicolò Dal Monte\\AppData\\Roaming\\Python\\Python313\\site-packages\\IPython\\core\\ultratb.py\", line 1137, in get_records\n",
      "    style = stack_data.style_with_executing_node(style, self.tb_highlight)\n",
      "  File \"C:\\Users\\Nicolò Dal Monte\\AppData\\Roaming\\Python\\Python313\\site-packages\\stack_data\\core.py\", line 455, in style_with_executing_node\n",
      "    class NewStyle(style):\n",
      "    ...<8 lines>...\n",
      "        }\n",
      "  File \"c:\\Users\\Nicolò Dal Monte\\AppData\\Local\\Programs\\Python\\Python313\\Lib\\site-packages\\pygments\\style.py\", line 91, in __new__\n",
      "    ndef[4] = colorformat(styledef[3:])\n",
      "              ~~~~~~~~~~~^^^^^^^^^^^^^^\n",
      "  File \"c:\\Users\\Nicolò Dal Monte\\AppData\\Local\\Programs\\Python\\Python313\\Lib\\site-packages\\pygments\\style.py\", line 58, in colorformat\n",
      "    assert False, \"wrong color format %r\" % text\n",
      "           ^^^^^\n",
      "AssertionError: wrong color format 'ansiyellow'\n"
     ]
    }
   ],
   "source": [
    "#importing libraries\n",
    "import numpy as np\n",
    "import cvxpy as cp"
   ]
  },
  {
   "cell_type": "code",
   "execution_count": null,
   "metadata": {},
   "outputs": [],
   "source": [
    "# Initial data (example)\n",
    "n = 49  # Number of selected representatives (example, replace with real data)\n",
    "\n",
    "# Expected returns for stocks (example, replace with real data)\n",
    "R = np.random.uniform(0.02, 0.15, n)  # Expected returns between 2% and 15%\n",
    "\n",
    "# Original weights of the index\n",
    "w_index = np.random.uniform(0.01, 0.05, n)  # Weights between 1% and 5% (example, replace with real data)\n",
    "\n",
    "variances = np.random.uniform(0.01, 0.10, n)  #Portfolio variance (example)# Realistic variances (example, replace with real data)\n",
    "\n",
    "# Price-to-book ratio for each stock\n",
    "PB = np.random.uniform(1, 5, n)  # P/B ratios between 1 and 5 (example, replace with real data)\n",
    "PB_index = np.dot(w_index, PB)  # Overall P/B ratio of the index (example, replace with real data)\n",
    "\n",
    "\n",
    "# Tolerances and parameters\n",
    "epsilon = 0.01  # Tolerance for the proportionality constraint\n",
    "delta = 0.02    # Tolerance for the expected return constraint\n",
    "lambda_risk = 0.5  # Risk weight in the objective function\n",
    "\n",
    "k=0.5\n",
    "\n",
    "# Decision variables\n",
    "x = cp.Variable(n)\n",
    "k=cp.Variable()"
   ]
  },
  {
   "cell_type": "code",
   "execution_count": null,
   "metadata": {},
   "outputs": [],
   "source": [
    "# Objective function: maximize expected return minus variance\n",
    "expected_return = R @ x  # Expected return of the portfolio\n",
    "portfolio_variance = cp.sum(cp.multiply(variances, cp.square(x)))  # Variance as weighted sum of individual variances\n",
    "objective = cp.Maximize(expected_return - lambda_risk * portfolio_variance)"
   ]
  },
  {
   "cell_type": "code",
   "execution_count": null,
   "metadata": {},
   "outputs": [],
   "source": [
    "constraints = [\n",
    "    cp.sum(x) == 1,  # Sum of weights = 1\n",
    "    x >= 0,  # No negative weights\n",
    "    cp.abs(x - cp.multiply(k,w_index)) <= epsilon,  # Proportionality constraint\n",
    "    cp.abs(expected_return - np.dot(w_index, R)) <= delta,  # Return similarity constraint\n",
    "    cp.sum(cp.multiply(x,PB)) <= PB_index  # P/B ratio constraint\n",
    "]"
   ]
  },
  {
   "cell_type": "code",
   "execution_count": null,
   "metadata": {},
   "outputs": [],
   "source": [
    "# Define and solve the problem\n",
    "problem = cp.Problem(objective, constraints)\n"
   ]
  },
  {
   "cell_type": "code",
   "execution_count": null,
   "metadata": {},
   "outputs": [],
   "source": [
    "Result=problem.solve()"
   ]
  },
  {
   "cell_type": "code",
   "execution_count": null,
   "metadata": {},
   "outputs": [],
   "source": [
    "print(x.value)"
   ]
  }
 ],
 "metadata": {
  "kernelspec": {
   "display_name": "Python 3",
   "language": "python",
   "name": "python3"
  },
  "language_info": {
   "codemirror_mode": {
    "name": "ipython",
    "version": 3
   },
   "file_extension": ".py",
   "mimetype": "text/x-python",
   "name": "python",
   "nbconvert_exporter": "python",
   "pygments_lexer": "ipython3",
   "version": "3.13.0"
  }
 },
 "nbformat": 4,
 "nbformat_minor": 2
}
