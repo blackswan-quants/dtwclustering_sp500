{
 "cells": [
  {
   "cell_type": "code",
   "execution_count": null,
   "metadata": {},
   "outputs": [],
   "source": [
    "from helpermodules.df_dataretrieval import IndexData_Retrieval\n",
    "df_sp500 = IndexData_Retrieval(filename='nasdaq_dataframe', link='https://en.wikipedia.org/wiki/S%26P_500',years=10, frequency='1day')\n",
    "df_sp500.getdata()"
   ]
  }
 ],
 "metadata": {
  "kernelspec": {
   "display_name": "Python 3",
   "language": "python",
   "name": "python3"
  },
  "language_info": {
   "codemirror_mode": {
    "name": "ipython",
    "version": 3
   },
   "file_extension": ".py",
   "mimetype": "text/x-python",
   "name": "python",
   "nbconvert_exporter": "python",
   "pygments_lexer": "ipython3",
   "version": "3.13.0"
  }
 },
 "nbformat": 4,
 "nbformat_minor": 2
}
