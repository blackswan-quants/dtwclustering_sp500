{
 "cells": [
  {
   "cell_type": "markdown",
   "metadata": {},
   "source": [
    "Download and adjust data"
   ]
  },
  {
   "cell_type": "code",
   "execution_count": null,
   "metadata": {},
   "outputs": [],
   "source": [
    "import yfinance as yf\n",
    "import pandas as pd\n",
    "from sklearn.preprocessing import MinMaxScaler\n",
    "import numpy as np\n",
    "import matplotlib.pyplot as plt\n",
    "sp500_data = yf.download('^GSPC', interval='1d')\n",
    "sp500_data = sp500_data.reset_index()\n",
    "sp500_data['Date'] = pd.to_datetime(sp500_data['Date'])\n",
    "sp500_data.head()\n",
    "sp500_data.info()\n",
    "sp500_data.describe()"
   ]
  },
  {
   "cell_type": "markdown",
   "metadata": {},
   "source": [
    "Check missing value"
   ]
  },
  {
   "cell_type": "code",
   "execution_count": null,
   "metadata": {},
   "outputs": [],
   "source": [
    "missing_values = sp500_data.isna().sum()\n",
    "print(missing_values)\n",
    "#...there are not missing value...\n"
   ]
  },
  {
   "cell_type": "markdown",
   "metadata": {},
   "source": [
    "Feature scaling"
   ]
  },
  {
   "cell_type": "code",
   "execution_count": null,
   "metadata": {},
   "outputs": [],
   "source": [
    "# select only numeric column for scaling using minmax\n",
    "numeric_columns = sp500_data.drop('Date', axis=1)\n",
    "min_max_scaler = MinMaxScaler()\n",
    "sp500_scaled=min_max_scaler.fit_transform(numeric_columns)\n",
    "sp500_scaled = pd.DataFrame(sp500_scaled, columns=numeric_columns.columns)\n",
    "sp500_scaled.head()"
   ]
  },
  {
   "cell_type": "markdown",
   "metadata": {},
   "source": [
    "Pickle"
   ]
  },
  {
   "cell_type": "code",
   "execution_count": null,
   "metadata": {},
   "outputs": [],
   "source": [
    "import pickle\n",
    "#pickle of the scaled dataset\n",
    "with open('sp500_scaled.pkl', 'wb') as f:\n",
    "    pickle.dump(sp500_scaled,f)\n",
    "#pickle of the original dataset\n",
    "with open('sp500_data.pkl', 'wb') as f:\n",
    "    pickle.dump(sp500_data,f)\n"
   ]
  }
 ],
 "metadata": {
  "kernelspec": {
   "display_name": "Python 3",
   "language": "python",
   "name": "python3"
  },
  "language_info": {
   "name": "python",
   "version": "3.13.0"
  }
 },
 "nbformat": 4,
 "nbformat_minor": 2
}
